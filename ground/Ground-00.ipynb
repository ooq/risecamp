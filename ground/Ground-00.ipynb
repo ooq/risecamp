{
 "cells": [
  {
   "cell_type": "markdown",
   "metadata": {},
   "source": [
    "# Ground RISE Camp Tutorial"
   ]
  },
  {
   "cell_type": "markdown",
   "metadata": {},
   "source": [
    "For background, please see the slides from this morning's talk on Ground. You can find them [here](https://www.dropbox.com/s/auw9y2p8o0kdjis/%5B2017-09-08%5D%20Ground%20RISE%20Camp.key?dl=1). This Jupyter notebook is running in a Docker container that already has a Ground instance as well as a Postgres server up and running. There isn't any more set up for us to do, so let's jump right in!\n",
    "\n",
    "In this tutorial, we will first introduce the basic concepts of Ground by walking through an instrumented analytics scenario. We will use Ground to track git commits and some simple data. We will run the code in the git repo on the data and automatically publish some lineage information into Ground. We will use the information automatically sent to Ground to inspect the lineage and make sure everything happened as we expected.\n",
    "\n",
    "Next, we will look at managing machine learning models with Ground as a specific case study and explore how one might use Ground to debug unexpected problems efficiently and simply.\n",
    "\n",
    "Last, we will look at how to use the Ground Python client to build a simple Aboveground application that takes in a directory and automatically publishes data context about the files in that directory to Ground."
   ]
  }
 ],
 "metadata": {
  "kernelspec": {
   "display_name": "Python 3",
   "language": "python",
   "name": "python3"
  },
  "language_info": {
   "codemirror_mode": {
    "name": "ipython",
    "version": 2
   },
   "file_extension": ".py",
   "mimetype": "text/x-python",
   "name": "python",
   "nbconvert_exporter": "python",
   "pygments_lexer": "ipython2",
   "version": "2.7.13"
  }
 },
 "nbformat": 4,
 "nbformat_minor": 2
}
