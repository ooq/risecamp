{
 "cells": [
  {
   "cell_type": "markdown",
   "metadata": {
    "collapsed": true
   },
   "source": [
    "# Introductory Exercises"
   ]
  },
  {
   "cell_type": "markdown",
   "metadata": {
    "collapsed": true
   },
   "source": [
    "In this first exercise, we will familiarize ourselves with the Ground API, and see an example of how Ground is used to capture and retrieve context about *data*, *code*, and the *lineage* that connects them. Here, we will be looking at 2 of the 3 layers discussed in the talk."
   ]
  },
  {
   "cell_type": "markdown",
   "metadata": {},
   "source": [
    "<img src=\"images/2-layer.png\" width=400 alt=\"The 2 Layers in Exercise 1\">"
   ]
  },
  {
   "cell_type": "markdown",
   "metadata": {},
   "source": [
    "\n",
    "To get started with Ground, we will use some \"Aboveground\" applications that were written for this tutorial. Aboveground applications allow users to interface with Ground at a higher semantic level than the general-purpose node-and-edge-based API. \n",
    "\n",
    "We will first add the commit history of a git repository into Ground. Then, we'll tell Ground about some of the data that's contained in that repository. Finally, we will run the code contained in the repository. At the end of this section, we will see that Ground kept track of the code and the data; it will also track the execution of the code and understand the lineage between the original data and the cleaned data.\n",
    "\n",
    "The cell below contains a call to the `ground_git_client`, which is an Aboveground app that interfaces with a Github repo. Run the cell below to capture and publish git information into Ground."
   ]
  },
  {
   "cell_type": "code",
   "execution_count": null,
   "metadata": {
    "collapsed": true
   },
   "outputs": [],
   "source": [
    "from aboveground import ground_git_client\n",
    "\n",
    "REPO_NAME = \"ground-context/risecamp\"\n",
    "ground_git_client.add_repo(REPO_NAME)"
   ]
  },
  {
   "cell_type": "markdown",
   "metadata": {},
   "source": [
    "Now, as a quick example, let's retrieve the node that we have just created. In this case, we're going to use the name of the repository to retrieve it."
   ]
  },
  {
   "cell_type": "code",
   "execution_count": null,
   "metadata": {
    "collapsed": true
   },
   "outputs": [],
   "source": [
    "from ground.client import GroundClient\n",
    "gc = GroundClient()\n",
    "\n",
    "gc.getNode(\"risecamp\")"
   ]
  },
  {
   "cell_type": "markdown",
   "metadata": {},
   "source": [
    "Now that we have some code that Ground is aware of, we are going to want to do something with that code. The particular repository that we populated has a simple **Python transformation script** that is \"Ground-aware\"\\*, as well a small amount of data for us to analyze in the form of a CSV file. You can find the repository online [here](https://github.com/ground-context/risecamp).\n",
    "\n",
    "Next, we need to make sure that Ground knows about the base dataset that we are going to use. Using another Aboveground tool that we have already developed, we can automatically tell Ground about this new dataset. This tool will populate Ground with some useful information about the file, such as the file type, the size of the file, and the path to the file.\n",
    "\n",
    "\\*When we say that these scripts are Ground-aware, we mean that we have instrumented them to know how to interact with Ground and automatically publish useful data context into Ground in the due course of their execution."
   ]
  },
  {
   "cell_type": "code",
   "execution_count": null,
   "metadata": {
    "collapsed": true
   },
   "outputs": [],
   "source": [
    "from aboveground import ground_file_client\n",
    "\n",
    "FILE_PATH = \"repo/data.txt\"\n",
    "ground_file_client.add_file(FILE_PATH)"
   ]
  },
  {
   "cell_type": "markdown",
   "metadata": {},
   "source": [
    "Great! Now Ground knows about our base dataset. In the output of the previous cell we see all the information that Ground has about `data.txt`. Notice the ID that was assigned by Ground to this dataset. We're going to use it again in a minute.\n",
    "\n",
    "Finally, we're going to run the transformation script in the repository. Since the script that we are using is Ground-aware, it is going to generate lineage information automatically in Ground as a part of transforming the data. It will tell Ground that it has created a new dataset based on the old input dataset, and it will associate this lineage information with the latest version of the source code that was used for the transformation."
   ]
  },
  {
   "cell_type": "code",
   "execution_count": null,
   "metadata": {
    "collapsed": true
   },
   "outputs": [],
   "source": [
    "# execute the Python script in the repository in the repository cloned above\n",
    "!cd repo && python column_splitter.py"
   ]
  },
  {
   "cell_type": "markdown",
   "metadata": {},
   "source": [
    "Now that we've spent sometime time populating Ground with data context, it's time to see what we've done. Using the Ground API client, for which you can find complete documentation [here](http://www.ground-context.org/wiki/docs), determine the following pieces of information. We've already created a `GroundClient` named `gc` above that we will use for the queries below."
   ]
  },
  {
   "cell_type": "code",
   "execution_count": null,
   "metadata": {
    "collapsed": true
   },
   "outputs": [],
   "source": [
    "# first, retrieve node version for the base dataset; this is the same node version that was printed above"
   ]
  },
  {
   "cell_type": "code",
   "execution_count": null,
   "metadata": {
    "collapsed": true
   },
   "outputs": [],
   "source": [
    "# next, using the ID of this dataset, let's find the id of the lineage edge versions adjacent\n",
    "# the API returns all adjacent lineage edge version(s), but in this case, we will only have one"
   ]
  },
  {
   "cell_type": "code",
   "execution_count": null,
   "metadata": {
    "collapsed": true
   },
   "outputs": [],
   "source": [
    "# let's now retrieve the full lineage edge version; copy the id from the query above to retrieve the version\n",
    "# we should see the git commit hash matches the latest commit hash from the printout where we added git info to Ground"
   ]
  },
  {
   "cell_type": "code",
   "execution_count": null,
   "metadata": {
    "collapsed": true
   },
   "outputs": [],
   "source": [
    "# lastly, let's retrieve the node version for the derived dataset"
   ]
  },
  {
   "cell_type": "markdown",
   "metadata": {},
   "source": [
    "The full solution is provided [here](https://github.com/ground-context/tutorial/blob/master/solutions/Ground-01.ipynb).\n",
    "\n",
    "At this point you have seen how we can model application context in Ground as nodes and edges, and how behavioral context is captured through separate lineage edges."
   ]
  }
 ],
 "metadata": {
  "kernelspec": {
   "display_name": "Python 3",
   "language": "python",
   "name": "python3"
  },
  "language_info": {
   "codemirror_mode": {
    "name": "ipython",
    "version": 3
   },
   "file_extension": ".py",
   "mimetype": "text/x-python",
   "name": "python",
   "nbconvert_exporter": "python",
   "pygments_lexer": "ipython3",
   "version": "3.5.2"
  }
 },
 "nbformat": 4,
 "nbformat_minor": 2
}
