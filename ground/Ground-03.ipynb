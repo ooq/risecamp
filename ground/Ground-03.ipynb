{
 "cells": [
  {
   "cell_type": "markdown",
   "metadata": {},
   "source": [
    "## Advanced Exercises: Extending Ground"
   ]
  },
  {
   "cell_type": "markdown",
   "metadata": {},
   "source": [
    "These are optional advanced exercises for those who finish the other exercises early. This portion is meant to help you understand how to build your own Aboveground application."
   ]
  },
  {
   "cell_type": "markdown",
   "metadata": {},
   "source": [
    "Before we go any further, let's first reset our Ground instance. If you mistakenly add data to Ground as you do this exercise, you can run the following cell to wipe Ground and start over anew:"
   ]
  },
  {
   "cell_type": "code",
   "execution_count": null,
   "metadata": {
    "collapsed": true
   },
   "outputs": [],
   "source": [
    "!bash ../reset_ground.sh >> /dev/null"
   ]
  },
  {
   "cell_type": "markdown",
   "metadata": {},
   "source": [
    "Before we start writing our own Aboveground tool, let's first dig deeper into the workings of the `ground_file_client` from Exercise 1. Let's begin by opening the [`ground_file_client.py`](http://localhost:8888/edit/aboveground/ground_file_client.py) file in another tab. After walking through the comments there, return here to continue with the exercises."
   ]
  },
  {
   "cell_type": "markdown",
   "metadata": {
    "collapsed": true
   },
   "source": [
    "Based on the examples of the Ground file client, our exercise here is to implement a Ground directory client. Instead of an `add_file` method in that example, we're going to implement an `add_dir` method that takes in the path of a directory, generates a list of all the files in it, and adds each one of those files to Ground. \n",
    "\n",
    "The data model we are imagining will create a node for the directory and one for each of the files in the directory recursively. Each one of the files will be associated with the directory via an edge. An example diagram is shown below."
   ]
  },
  {
   "cell_type": "markdown",
   "metadata": {},
   "source": [
    "![Example Directory Structure Graph](images/dir.png)"
   ]
  },
  {
   "cell_type": "markdown",
   "metadata": {},
   "source": [
    "The following are our correctness constraints:\n",
    "\n",
    "* `add_dir` should recurse if it encounters a subdirectory.\n",
    "* Every file and subdirectory should be linked to its parent with an edge.\n",
    "* A file should never have any children.\n",
    "* Each node and edge that is created should be associated with an initial version representing the current state of the directory.\n",
    "\n",
    "To get you started, we've implemented an `inspect_dir` method below that looks at each object in a directory and returns two lists: the first with all the files and the second with all the subdirectories.\n",
    "\n",
    "The simplest version of the directory client can use the existing file client as a subroutine, in order to add the files and then link the files to the directory node. We encourage you to explore the API and add other features that you can think of. For example, one optional feature would be to generate lineage edges, which would indicate that it was the `ground_dir_client` script that actually created the nodes and edges.\n",
    "\n",
    "You can find the API documentation for Ground [here](http://www.ground-context.org/wiki/docs)."
   ]
  },
  {
   "cell_type": "code",
   "execution_count": null,
   "metadata": {
    "collapsed": true
   },
   "outputs": [],
   "source": [
    "from ground.client import GroundClient\n",
    "import os\n",
    "\n",
    "gc = GroundClient()\n",
    "\n",
    "def add_dir(dir_name):\n",
    "    # your solution here\n",
    "    pass\n",
    "\n",
    "def inspect_dir(dir_path):\n",
    "    files = []\n",
    "    dirs = []\n",
    "    \n",
    "    for f in os.listdir(dir_path):\n",
    "        if os.isfile(f):\n",
    "            files.append(os.join(dir_path, f))\n",
    "        else:\n",
    "            dirs.append(os.join(dir_path, f))\n",
    "    \n",
    "    return files, dirs"
   ]
  },
  {
   "cell_type": "markdown",
   "metadata": {},
   "source": [
    "A full solution is provided [here](https://github.com/ground-context/tutorial/blob/master/solutions/Ground-03.ipynb). Based on this exercise, you should now be able to envision how to capture data context from more interesting Aboveground services than directory-walkers. As an advanced example, imagine how to use Ground to capture all the activity of a user in a Jupyter notebook!"
   ]
  },
  {
   "cell_type": "code",
   "execution_count": null,
   "metadata": {
    "collapsed": true
   },
   "outputs": [],
   "source": []
  }
 ],
 "metadata": {
  "kernelspec": {
   "display_name": "Python 3",
   "language": "python",
   "name": "python3"
  },
  "language_info": {
   "codemirror_mode": {
    "name": "ipython",
    "version": 2
   },
   "file_extension": ".py",
   "mimetype": "text/x-python",
   "name": "python",
   "nbconvert_exporter": "python",
   "pygments_lexer": "ipython2",
   "version": "2.7.13"
  }
 },
 "nbformat": 4,
 "nbformat_minor": 2
}
