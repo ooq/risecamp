{
 "cells": [
  {
   "cell_type": "markdown",
   "metadata": {
    "toc": "true"
   },
   "source": [
    " # Table of Contents\n",
    "<div class=\"toc\" style=\"margin-top: 1em;\"><ul class=\"toc-item\" id=\"toc-level0\"><li><span><a href=\"#API-Overview\" data-toc-modified-id=\"API-Overview-1\"><span class=\"toc-item-num\">1&nbsp;&nbsp;</span>API Overview</a></span><ul class=\"toc-item\"><li><span><a href=\"#Some-Context-[Optional]\" data-toc-modified-id=\"Some-Context-[Optional]-1.1\"><span class=\"toc-item-num\">1.1&nbsp;&nbsp;</span>Some Context [Optional]</a></span></li><li><span><a href=\"#Create-a-ClipperConnection\" data-toc-modified-id=\"Create-a-ClipperConnection-1.2\"><span class=\"toc-item-num\">1.2&nbsp;&nbsp;</span>Create a ClipperConnection</a></span></li><li><span><a href=\"#Start-Clipper\" data-toc-modified-id=\"Start-Clipper-1.3\"><span class=\"toc-item-num\">1.3&nbsp;&nbsp;</span>Start Clipper</a></span></li><li><span><a href=\"#Deploy-a-model\" data-toc-modified-id=\"Deploy-a-model-1.4\"><span class=\"toc-item-num\">1.4&nbsp;&nbsp;</span>Deploy a model</a></span><ul class=\"toc-item\"><li><span><a href=\"#Create-the-model\" data-toc-modified-id=\"Create-the-model-1.4.1\"><span class=\"toc-item-num\">1.4.1&nbsp;&nbsp;</span>Create the model</a></span><ul class=\"toc-item\"><li><span><a href=\"#Solution\" data-toc-modified-id=\"Solution-1.4.1.1\"><span class=\"toc-item-num\">1.4.1.1&nbsp;&nbsp;</span>Solution</a></span></li></ul></li><li><span><a href=\"#Deploy-to-Clipper\" data-toc-modified-id=\"Deploy-to-Clipper-1.4.2\"><span class=\"toc-item-num\">1.4.2&nbsp;&nbsp;</span>Deploy to Clipper</a></span></li><li><span><a href=\"#A-Note-About-Types-[Optional]\" data-toc-modified-id=\"A-Note-About-Types-[Optional]-1.4.3\"><span class=\"toc-item-num\">1.4.3&nbsp;&nbsp;</span>A Note About Types [Optional]</a></span></li></ul></li><li><span><a href=\"#Register-an-application\" data-toc-modified-id=\"Register-an-application-1.5\"><span class=\"toc-item-num\">1.5&nbsp;&nbsp;</span>Register an application</a></span></li><li><span><a href=\"#Inspecting-Clipper\" data-toc-modified-id=\"Inspecting-Clipper-1.6\"><span class=\"toc-item-num\">1.6&nbsp;&nbsp;</span>Inspecting Clipper</a></span></li><li><span><a href=\"#Updating-the-Model\" data-toc-modified-id=\"Updating-the-Model-1.7\"><span class=\"toc-item-num\">1.7&nbsp;&nbsp;</span>Updating the Model</a></span></li><li><span><a href=\"#Adding-Model-Replicas\" data-toc-modified-id=\"Adding-Model-Replicas-1.8\"><span class=\"toc-item-num\">1.8&nbsp;&nbsp;</span>Adding Model Replicas</a></span></li></ul></li><li><span><a href=\"#Example-Application---Birds-vs-Airplanes\" data-toc-modified-id=\"Example-Application---Birds-vs-Airplanes-2\"><span class=\"toc-item-num\">2&nbsp;&nbsp;</span>Example Application - Birds vs Airplanes</a></span><ul class=\"toc-item\"><li><span><a href=\"#Load-Cifar\" data-toc-modified-id=\"Load-Cifar-2.1\"><span class=\"toc-item-num\">2.1&nbsp;&nbsp;</span>Load Cifar</a></span></li><li><span><a href=\"#Create-an-application\" data-toc-modified-id=\"Create-an-application-2.2\"><span class=\"toc-item-num\">2.2&nbsp;&nbsp;</span>Create an application</a></span></li><li><span><a href=\"#Start-serving\" data-toc-modified-id=\"Start-serving-2.3\"><span class=\"toc-item-num\">2.3&nbsp;&nbsp;</span>Start serving</a></span></li><li><span><a href=\"#Train-Logistic-Regression-Model\" data-toc-modified-id=\"Train-Logistic-Regression-Model-2.4\"><span class=\"toc-item-num\">2.4&nbsp;&nbsp;</span>Train Logistic Regression Model</a></span></li><li><span><a href=\"#Deploy-Logistic-Regression-Model\" data-toc-modified-id=\"Deploy-Logistic-Regression-Model-2.5\"><span class=\"toc-item-num\">2.5&nbsp;&nbsp;</span>Deploy Logistic Regression Model</a></span></li><li><span><a href=\"#Load-TensorFlow-Model\" data-toc-modified-id=\"Load-TensorFlow-Model-2.6\"><span class=\"toc-item-num\">2.6&nbsp;&nbsp;</span>Load TensorFlow Model</a></span></li><li><span><a href=\"#Deploy-TensorFlow-Model\" data-toc-modified-id=\"Deploy-TensorFlow-Model-2.7\"><span class=\"toc-item-num\">2.7&nbsp;&nbsp;</span>Deploy TensorFlow Model</a></span></li></ul></li><li><span><a href=\"#Restarting-Clipper\" data-toc-modified-id=\"Restarting-Clipper-3\"><span class=\"toc-item-num\">3&nbsp;&nbsp;</span>Restarting Clipper</a></span></li></ul></div>"
   ]
  },
  {
   "cell_type": "code",
   "execution_count": null,
   "metadata": {},
   "outputs": [],
   "source": [
    "from __future__ import absolute_import, division, print_function\n",
    "import logging\n",
    "import sys\n",
    "import os\n",
    "import time\n",
    "import subprocess32 as subprocess\n",
    "logger = logging.getLogger()\n",
    "logger.setLevel(logging.INFO)"
   ]
  },
  {
   "cell_type": "markdown",
   "metadata": {},
   "source": [
    "# API Overview\n",
    "\n",
    "In the first part of this exercise, you will explore how to create and interact with a Clipper cluster. The primary way of managing Clipper is with the Clipper Admin Python tool. This tutorial will walk you through all the things you can do with the Clipper Admin tool as well as explain what happens within Clipper when you issue each command. You can find the complete API documentation for the Clipper Admin tool on our website: <http://docs.clipper.ai>.\n",
    "\n",
    "**Goal:** Be familiar with how to create and manage a Clipper cluster, and understand what happens when you issue Clipper admin commands."
   ]
  },
  {
   "cell_type": "markdown",
   "metadata": {},
   "source": [
    "## Some Context [Optional]"
   ]
  },
  {
   "cell_type": "markdown",
   "metadata": {},
   "source": [
    "The Clipper Admin tool is distributed through Pip. You can install it with `pip install clipper_admin`, but it has already been installed in this notebook for you.\n",
    "\n",
    "Clipper is built on top of Docker containers. A running Clipper cluster consists of a collection of Docker containers communicating with each other over the network. As you issue commands against Clipper, you are communicating with these containers as well as creating new ones or destroying existing ones. As you explore the Clipper API throughout this exercise, we will illustrate how each command effects the cluster state.\n",
    "\n",
    "The main API for interacting with Clipper is exposed via a [`ClipperConnection`](http://docs.clipper.ai/en/develop/#clipper-connection) object. This is your handle to a Clipper cluster (this collection of Docker containers). It can be used to start, stop, inspect, and modify the cluster.\n",
    "\n",
    "In order to create a `ClipperConnection` object, you must provide it with a [`ContainerManager`](http://docs.clipper.ai/en/develop/#container-managers). While Docker is becoming an increasingly standard mechanism for deploying applications, there are many different tools for managing a Docker cluster. These tools broadly fall into the category of *Container Orchestration frameworks*. Some popular examples are [Kubernetes](https://kubernetes.io/), [Docker Swarm](https://docs.docker.com/engine/swarm/), and [DC/OS](https://dcos.io/). One of the reasons we run Clipper in Docker containers is to make the system as general as possible and support many different deployment scenarios. Within the Clipper Admin, we abstract away all of the Docker container-specific commands behind the `ContainerManager` interface. The `ClipperConnection` object makes Clipper-specific decisions about how to issue commands, and then makes any changes to the Docker configuration (for example, to launch a container for a newly deployed model) through the `ContainerManager`. To support different container orchestration frameworks that manage Docker containers in different ways, we create different implementations of the `ContainerManager` interface.\n",
    "\n",
    "Clipper currently provides two `ContainerManager` implementations: the `DockerContainerManager` and the `KubernetesContainerManager`. In this exercise, you will be using the `DockerContainerManager`, which runs Clipper directly on your local Docker instance. This `ContainerManager` is particularly useful for trying out Clipper without needing to set up an enterprise-grade container orchestration framework. The `DockerContainerManager` is not recommended for production use cases."
   ]
  },
  {
   "cell_type": "markdown",
   "metadata": {},
   "source": [
    "## Create a ClipperConnection\n",
    "\n",
    "First, create a new [`ClipperConnection`](http://docs.clipper.ai/en/develop/#clipper-connection) object with the type of `ContainerManager` you want to use. Simply creating a new connection object does not connect to Clipper. This is a good thing. You haven't started Clipper yet so you would have nothing to connect to!\n",
    "\n",
    ">*The command to get the Docker IP address is a bit of hack to deal with the fact that you are running this exercise inside its own Docker container. Without going into the details of how Docker handles container networking, what this command does is figure out how to send commands to \"localhost\" on the *host machine* from inside a Docker container. If you're curious, [this StackOverflow answer](https://stackoverflow.com/a/24326540/814642) provides a nice overview of the problem and the solution.*\n",
    "\n",
    "> *Generally, you will not have to deal with this and can leave the `docker_ip_address` argument as the default of `127.0.0.1` (localhost).*\n"
   ]
  },
  {
   "cell_type": "code",
   "execution_count": null,
   "metadata": {
    "collapsed": true
   },
   "outputs": [],
   "source": [
    "from clipper_admin import ClipperConnection, DockerContainerManager\n",
    "docker_ip = subprocess.check_output(\"./get_docker_ip.sh\").strip()\n",
    "clipper_conn = ClipperConnection(DockerContainerManager(docker_ip_address=docker_ip))"
   ]
  },
  {
   "cell_type": "markdown",
   "metadata": {},
   "source": [
    "## Start Clipper\n",
    "\n",
    "This command will start three Docker containers:\n",
    "\n",
    "1. The query frontend: This container listens for incoming prediction requests and schedules and routes them to the deployed models.\n",
    "2. The management frontend: This container manages and updates Clipper's internal configuration state.\n",
    "3. A Redis instance: Redis is used to persistently store Clipper's internal configuration state. You started Redis on port 6380 instead of the default port to avoid collisions with any Redis instances that are already running.\n",
    "\n",
    "These containers are networked together as illustrated below.\n",
    "\n",
    "<img src=\"img/docker_config_imgs/start_clipper.png\" style=\"width: 600px;\"/>\n",
    "\n",
    "> *Because Docker must download the Docker images from the internet (if they are not already cached) before it can start the containers, the first time you run this command can take a long time to complete (up to a couple minutes) while the image is downloaded. Thanks for your patience.*\n",
    "\n",
    "If you try to start more than one Clipper cluster at once on the same host, the second execution of the command will fail because, by default, the second cluster will try to bind to the same ports as the first one. If you run into problems with the exercise and want to start over, see [Section 3](#Restarting-Clipper) for instructions on how to reset Clipper."
   ]
  },
  {
   "cell_type": "code",
   "execution_count": null,
   "metadata": {},
   "outputs": [],
   "source": [
    "clipper_conn.start_clipper()\n",
    "clipper_addr = clipper_conn.get_query_addr()"
   ]
  },
  {
   "cell_type": "markdown",
   "metadata": {},
   "source": [
    "If you now list the running Docker containers, filtering out any containers not started by Clipper, you should see the three Clipper containers listed (look at the \"IMAGE\" field of the output)."
   ]
  },
  {
   "cell_type": "code",
   "execution_count": null,
   "metadata": {},
   "outputs": [],
   "source": [
    "!docker ps --filter label=ai.clipper.container.label"
   ]
  },
  {
   "cell_type": "markdown",
   "metadata": {},
   "source": [
    "## Deploy a model\n",
    "\n",
    "\n",
    "At its most basic, a trained model is just a function that takes some input and produces some output. As a result, one way to think about Clipper is as a function server. While these functions are often complex models, Clipper is not restricted to serving machine learning models.\n",
    "\n",
    "To start with, you will deploy a very simple function to Clipper. You'll start with the classic \"Big Data\" version of Hello World: *Word Count.*"
   ]
  },
  {
   "cell_type": "markdown",
   "metadata": {},
   "source": [
    "### Create the model\n",
    "\n",
    "Before you can deploy a model to Clipper, you have to write it.\n",
    "\n",
    "Define a function that takes in a document (a string of text) and returns the number of words in the text as an integer.\n",
    "\n",
    "```py\n",
    "def count_words()\n",
    "```"
   ]
  },
  {
   "cell_type": "code",
   "execution_count": null,
   "metadata": {
    "collapsed": true
   },
   "outputs": [],
   "source": [
    "def count_words(text):\n",
    "    raise NotImplementedError"
   ]
  },
  {
   "cell_type": "code",
   "execution_count": null,
   "metadata": {
    "collapsed": true
   },
   "outputs": [],
   "source": [
    "test_one = \"Hello world. Foo bar baz.\"\n",
    "assert count_words(test_one) == 5\n",
    "test_two = \"I'm learning so much at the inaugural RISE Camp.\"\n",
    "assert count_words(test_two) == 9"
   ]
  },
  {
   "cell_type": "markdown",
   "metadata": {},
   "source": [
    "To improve performance during inference, many machine learning models exploit opportunities for data parallelism in the inference process. Because of this, Clipper tries to provide multiple inputs at once to a deployed model. Therefore, models deployed to Clipper must have a function interface that takes a list of inputs as an argument and returns a list of predictions as strings. Returning predictions as strings provides a lot of flexibility over what your models can return. Commonly, models in Clipper will return either a single number (such as a label or score) or JSON containing a richer representation of the model output (for example, by including confidence estimates of predicted labels).\n",
    "\n",
    "To adapt your word count example to match the required interface, define a second function that takes a list of documents as an argument and returns the word count of each document as a string."
   ]
  },
  {
   "cell_type": "code",
   "execution_count": null,
   "metadata": {
    "collapsed": true
   },
   "outputs": [],
   "source": [
    "# The function you deploy to Clipper must take a list of inputs, so we\n",
    "# wrap our core word-count logic in a loop.\n",
    "def count_words_in_docs(docs):\n",
    "    counts = []\n",
    "    for d in docs:\n",
    "        count = str(count_words(d))\n",
    "        counts.append(count)\n",
    "    return counts"
   ]
  },
  {
   "cell_type": "code",
   "execution_count": null,
   "metadata": {
    "collapsed": true
   },
   "outputs": [],
   "source": [
    "assert count_words_in_docs([test_one, test_two]) == [\"5\", \"9\"]"
   ]
  },
  {
   "cell_type": "markdown",
   "metadata": {
    "heading_collapsed": true
   },
   "source": [
    "#### Solution"
   ]
  },
  {
   "cell_type": "markdown",
   "metadata": {
    "hidden": true
   },
   "source": [
    "```py\n",
    "def count_words(text):\n",
    "    words = text.split()\n",
    "    return len(words)\n",
    "```"
   ]
  },
  {
   "cell_type": "markdown",
   "metadata": {},
   "source": [
    "### Deploy to Clipper\n",
    "\n",
    "One of the goals of Clipper is to make it simple to deploy and maintain machine-learning models in production. The prediction interface that models must implement is very simple, consisting of a single function. And the use of Docker makes it easy to include all of a model's dependencies in a self-contained environment. However, deploying a new type of model still entails writing and debugging a new model container and creating a Docker image.\n",
    "\n",
    "To make the model deployment process even simpler, Clipper provides a library of *model deployers* for common types of models. If your model can be deployed with one of these deployers, you no longer need to write a model container, create a Docker image, or even figure out how to save a model. Instead, you provide your trained model directly to the model deployer function within your Python process. The model deployer takes care of saving the model and building a Docker image that is compatible with your model type.\n",
    "\n",
    "Currently, Clipper provides two model deployers, one to deploy arbitrary Python functions (within some constraints) and the other to deploy PySpark models along with pre- and post-processing logic. In this exercise, you will be using the Python deployer.\n",
    "\n",
    "[Read more about model deployers in the Clipper documentation.](http://docs.clipper.ai/en/develop/#model-deployers)"
   ]
  },
  {
   "cell_type": "code",
   "execution_count": null,
   "metadata": {},
   "outputs": [],
   "source": [
    "from clipper_admin.deployers import python as python_deployer\n",
    "python_deployer.deploy_python_closure(\n",
    "    clipper_conn,\n",
    "    name=\"wordcount\",  # The name of the model in Clipper\n",
    "    version=1,  # A unique identifier to assign to this model.\n",
    "    input_type=\"string\",  # The type of data the model function expects as input\n",
    "    func=count_words_in_docs # The model function to deploy\n",
    ")"
   ]
  },
  {
   "cell_type": "markdown",
   "metadata": {},
   "source": [
    "Clipper deploys each model in its own Docker container. After deploying the model, Clipper uses the `DockerContainerManager` to start a container for this model and create an RPC connection with the Clipper query frontend, as illustrated below (the changes to the cluster are highlighted in red).\n",
    "\n",
    "> *Once again, Clipper must download a Docker container from the internet the first time this command is run.*\n",
    "\n",
    "<img src=\"img/docker_config_imgs/deploy_model.png\" style=\"width: 600px;\"/>\n",
    "\n",
    "\n",
    "If you list the Clipper containers again, you can see the container running your word count model."
   ]
  },
  {
   "cell_type": "code",
   "execution_count": null,
   "metadata": {},
   "outputs": [],
   "source": [
    "!docker ps --filter label=ai.clipper.container.label"
   ]
  },
  {
   "cell_type": "markdown",
   "metadata": {},
   "source": [
    "### A Note About Types [Optional]"
   ]
  },
  {
   "cell_type": "markdown",
   "metadata": {},
   "source": [
    "When you deploy models and register applications, you must specify the input type that the model or application expects. The type that you specify has implications for how Clipper manages input serialization and deserialization. From the user's perspective, the input type affects the behavior of Clipper in two places. In the \"input\" field of the request JSON body, applications will reject requests where the value of that field is the wrong type. And the deployed model function will be called with a list of inputs of the specified type.\n",
    "\n",
    "The input type can be one of the following types:\n",
    "+ *\"ints\"*: The value of the \"input\" field in a request must be a JSON list of ints. The model function will be called with a list of numpy arrays of type `numpy.int`.\n",
    "+ *\"floats\"*: The value of the \"input\" field in a request must be a JSON list of doubles. The model function will be called with a list of numpy arrays of type `numpy.float32`.\n",
    "+ *\"doubles\"*: The value of the \"input\" field in a request must be a JSON list of doubles. The model function will be called with a list of numpy arrays of type `numpy.float64`.\n",
    "+ *\"bytes\"*: The value of the \"input\" field in a request must be a Base64 encoded string. The model function will be called with a list of numpy arrays of type `numpy.int8`.\n",
    "+ *\"strings\"*: The value of the \"input\" field in a request must be a string. The model function will be called with a list of strings."
   ]
  },
  {
   "cell_type": "markdown",
   "metadata": {},
   "source": [
    "## Register an application\n",
    "\n",
    "You've now deployed a model to Clipper, but you don't have any way to query it yet. Instead of automatically creating a REST endpoint when you deploy a model, Clipper introduces a layer of indirection: the application. Clients query a specific application in Clipper, and the application routes the query to the correct model. This allows multiple applications to route queries to the same model, and in the future will allow a single application to route queries to multiple models. A single Clipper cluster can have many applications registered and many models deployed at once.\n",
    "\n",
    "When you register an application you configure certain elements of the application's behavior. These include:\n",
    "+ The name to give the REST endpoint.\n",
    "+ The input type that the application expects (Clipper will ensure applications only route requests to models with matching input types).\n",
    "+ The latency service level objective (SLO) specified in microseconds. Clipper will manage how it schedules and routes queries for an application based on the specified service level objective. For example, Clipper will set the amount of time it allows requests to spend queued before being sent to the model based on the service level objective for the application requesting the prediction. In addition, Clipper will respond to requests by the end of the specified SLO, even if it has not received a prediction back from the model.\n",
    "+ The default output: Clipper will respond with the default output to requests if a real prediction isn't available by the end of the service level objective.\n",
    "\n",
    "\n",
    "When you register an application with Clipper, it creates a REST endpoint for that application:\n",
    "\n",
    "```\n",
    "URL: /<app_name>/predict\n",
    "Method: POST\n",
    "Data Params: {\"input\": <input>}\n",
    "```\n",
    "\n",
    "<img src=\"img/docker_config_imgs/register_app.png\" style=\"width: 600px;\"/>\n",
    "\n",
    "Register an application to query your word count function:"
   ]
  },
  {
   "cell_type": "code",
   "execution_count": null,
   "metadata": {},
   "outputs": [],
   "source": [
    "clipper_conn.register_application(\n",
    "    name=\"wordcount-app\",\n",
    "    input_type=\"strings\",\n",
    "    default_output=\"-1\",\n",
    "    slo_micros=100000)"
   ]
  },
  {
   "cell_type": "markdown",
   "metadata": {},
   "source": [
    "Try querying the newly created application with [curl](https://curl.haxx.se/)."
   ]
  },
  {
   "cell_type": "code",
   "execution_count": null,
   "metadata": {},
   "outputs": [],
   "source": [
    "%%bash -s \"$clipper_addr\"\n",
    "curl -s -X POST --header \"Content-Type:application/json\" \\\n",
    "    -d '{\"input\": \"The sky above the port was the color of television, tuned to a dead channel.\"}' \\\n",
    "    $1/wordcount-app/predict"
   ]
  },
  {
   "cell_type": "markdown",
   "metadata": {},
   "source": [
    "You should see that your application returned the default output of \"-1\". This is because even though you have deployed a model and registered an application, you have not told Clipper to route requests from the \"wordcount-app\" application to the \"wordcount\" model.\n",
    "\n",
    "You do this by *linking* the model to the application.\n",
    "\n",
    "<img src=\"img/docker_config_imgs/link_model.png\" style=\"width: 600px;\"/>\n"
   ]
  },
  {
   "cell_type": "code",
   "execution_count": null,
   "metadata": {},
   "outputs": [],
   "source": [
    "clipper_conn.link_model_to_app(app_name=\"wordcount-app\", model_name=\"wordcount\")"
   ]
  },
  {
   "cell_type": "markdown",
   "metadata": {},
   "source": [
    "When you query the \"wordcount-app\" endpoint again, Clipper should return the correct word count. Try it with your own phrase."
   ]
  },
  {
   "cell_type": "code",
   "execution_count": null,
   "metadata": {},
   "outputs": [],
   "source": [
    "%%bash -s \"$clipper_addr\"\n",
    "curl -s -X POST --header \"Content-Type:application/json\" \\\n",
    "    -d '{\"input\": \"TRY YOUR OWN PHRASE\"}' \\\n",
    "    $1/wordcount-app/predict"
   ]
  },
  {
   "cell_type": "markdown",
   "metadata": {},
   "source": [
    "## Inspecting Clipper\n",
    "\n",
    "The `ClipperConnection` object has several methods to inspect various aspects of the Clipper cluster."
   ]
  },
  {
   "cell_type": "markdown",
   "metadata": {},
   "source": [
    "You can list all of the applications."
   ]
  },
  {
   "cell_type": "code",
   "execution_count": null,
   "metadata": {},
   "outputs": [],
   "source": [
    "clipper_conn.get_all_apps(verbose=True)"
   ]
  },
  {
   "cell_type": "markdown",
   "metadata": {},
   "source": [
    "Or all of the models."
   ]
  },
  {
   "cell_type": "code",
   "execution_count": null,
   "metadata": {},
   "outputs": [],
   "source": [
    "clipper_conn.get_all_models(verbose=True)"
   ]
  },
  {
   "cell_type": "markdown",
   "metadata": {},
   "source": [
    "Clipper also tracks several performance metrics that you can inspect at any time."
   ]
  },
  {
   "cell_type": "code",
   "execution_count": null,
   "metadata": {},
   "outputs": [],
   "source": [
    "clipper_conn.inspect_instance()"
   ]
  },
  {
   "cell_type": "markdown",
   "metadata": {},
   "source": [
    "You can also fetch the raw container logs from all of the Clipper docker containers. The command will print the paths to the log files for further examination. You can figure out which logs belong to which container based on the unique Docker container ID in the log filename."
   ]
  },
  {
   "cell_type": "code",
   "execution_count": null,
   "metadata": {},
   "outputs": [],
   "source": [
    "clipper_conn.get_clipper_logs()"
   ]
  },
  {
   "cell_type": "markdown",
   "metadata": {},
   "source": [
    "## Updating the Model"
   ]
  },
  {
   "cell_type": "markdown",
   "metadata": {},
   "source": [
    "Machine learning models are rarely static. Instead, data science tends to be an iterative process, with new and improved models being developed over time. Clipper supports this workflow by letting you deploy new versions of models. If you look back to where you linked your wordcount model to the application, you'll see that there is no mention of versioning in that method call. Instead, when a new version of a model is deployed, Clipper will automatically start routing requests to the new version.\n",
    "\n",
    "Create a new version of the \"wordcount\" model that counts the number of *unique* words in a document."
   ]
  },
  {
   "cell_type": "code",
   "execution_count": null,
   "metadata": {
    "collapsed": true
   },
   "outputs": [],
   "source": [
    "import json\n",
    "import string\n",
    "def unique_word_count(text):\n",
    "    # Convert to lower case\n",
    "    text = text.lower()\n",
    "    text = text.translate(None, string.punctuation)\n",
    "    words = text.split()\n",
    "    counts = {}\n",
    "    for w in words:\n",
    "        if w in counts:\n",
    "            counts[w] += 1\n",
    "        else:\n",
    "            counts[w] = 1\n",
    "    return len(counts.keys())\n",
    "    \n",
    "def count_unique_words_multiple_docs(docs):\n",
    "    counts = []\n",
    "    for d in docs:\n",
    "        count = unique_word_count(d)\n",
    "        counts.append(str(count))\n",
    "    return counts"
   ]
  },
  {
   "cell_type": "code",
   "execution_count": null,
   "metadata": {},
   "outputs": [],
   "source": [
    "word_freq_example = \"Hello world. This is an example sentence. This is another sentence. There are some repeated words in this document.\"\n",
    "count_unique_words_multiple_docs([word_freq_example])"
   ]
  },
  {
   "cell_type": "markdown",
   "metadata": {},
   "source": [
    "Deploy this new version of the function as version \"2\". For this application, you are using a numeric versioning scheme. But Clipper just treats versions as unique string identifiers, so you could use other versioning schemes (such as Git hashes or semantic versioning). Versions don't even have to be ordered, Clipper just tracks the currently active version.\n",
    "\n",
    "<img src=\"img/docker_config_imgs/update_model.png\" style=\"width: 600px;\"/>"
   ]
  },
  {
   "cell_type": "code",
   "execution_count": null,
   "metadata": {},
   "outputs": [],
   "source": [
    "python_deployer.deploy_python_closure(\n",
    "    clipper_conn,\n",
    "    name=\"wordcount\",\n",
    "    version=\"2\",\n",
    "    input_type=\"string\",  # The input type must match across all model versions\n",
    "    func=count_unique_words_multiple_docs # The new function\n",
    ")"
   ]
  },
  {
   "cell_type": "code",
   "execution_count": null,
   "metadata": {},
   "outputs": [],
   "source": [
    "%%bash -s \"$clipper_addr\"\n",
    "curl -s -X POST --header \"Content-Type:application/json\" \\\n",
    "    -d '{\"input\": \"The sky above the port was the color of television, tuned to a dead channel.\"}' \\\n",
    "    $1/wordcount-app/predict  "
   ]
  },
  {
   "cell_type": "markdown",
   "metadata": {},
   "source": [
    "Sometimes the \"new and improved\" model is not actually improved. If you deploy a model that isn't working well, you can roll back to any previous version. This just changes which version of the model application's route requests to.\n",
    "\n",
    "<img src=\"img/docker_config_imgs/rollback_version.png\" style=\"width: 600px;\"/>"
   ]
  },
  {
   "cell_type": "code",
   "execution_count": null,
   "metadata": {
    "collapsed": true
   },
   "outputs": [],
   "source": [
    "clipper_conn.set_model_version(name=\"wordcount\", version=\"1\")"
   ]
  },
  {
   "cell_type": "code",
   "execution_count": null,
   "metadata": {},
   "outputs": [],
   "source": [
    "%%bash -s \"$clipper_addr\"\n",
    "curl -s -X POST --header \"Content-Type:application/json\" \\\n",
    "    -d '{\"input\": \"The sky above the port was the color of television, tuned to a dead channel.\"}' \\\n",
    "    $1/wordcount-app/predict"
   ]
  },
  {
   "cell_type": "markdown",
   "metadata": {},
   "source": [
    "## Adding Model Replicas\n",
    "\n",
    "Many machine learning models are computationally expensive and a single instance of the model may not meet the throughput demands of a serving workload. To increase prediction throughput, you can add additional replicas of a model. This creates additional Docker containers running the same model. Clipper will act as a load-balancer and distribute incoming requests across the set of available model replicas to provide higher throughput.\n",
    "\n",
    "Set the number of replicas for the currently active version (\"1\") of the \"wordcount\" model to 4.\n",
    "\n",
    "<img src=\"img/docker_config_imgs/add_replicas.png\" style=\"width: 600px;\"/>"
   ]
  },
  {
   "cell_type": "code",
   "execution_count": null,
   "metadata": {},
   "outputs": [],
   "source": [
    "clipper_conn.set_num_replicas(\"wordcount\", num_replicas=4)"
   ]
  },
  {
   "cell_type": "markdown",
   "metadata": {},
   "source": [
    "If you list the Clipper Docker containers, you should now see four containers based on the image \"wordcount:1\"."
   ]
  },
  {
   "cell_type": "code",
   "execution_count": null,
   "metadata": {},
   "outputs": [],
   "source": [
    "!docker ps --filter label=ai.clipper.container.label"
   ]
  },
  {
   "cell_type": "markdown",
   "metadata": {},
   "source": [
    "If you want to reduce the number of replicas of a model to free up hardware resource, you can use the same command.\n",
    "\n",
    "Set the number of replicas for \"wordcount\" back to 1.\n",
    "\n",
    "<img src=\"img/docker_config_imgs/set_replicas.png\" style=\"width: 600px;\"/>"
   ]
  },
  {
   "cell_type": "code",
   "execution_count": null,
   "metadata": {},
   "outputs": [],
   "source": [
    "clipper_conn.set_num_replicas(\"wordcount\", num_replicas=1)"
   ]
  },
  {
   "cell_type": "code",
   "execution_count": null,
   "metadata": {},
   "outputs": [],
   "source": [
    "!docker ps --filter label=ai.clipper.container.label"
   ]
  },
  {
   "cell_type": "markdown",
   "metadata": {},
   "source": [
    "# Example Application - Birds vs Airplanes"
   ]
  },
  {
   "cell_type": "markdown",
   "metadata": {},
   "source": [
    "In the second part of this exercise, you will build a real machine learning application that uses computer vision models to classify images, including training your own models.\n",
    "\n",
    "You will create an application that labels images from the CIFAR-10 dataset as containing either birds or planes.\n",
    "\n",
    "These images have already been downloaded and are available locally at `~/cifar`."
   ]
  },
  {
   "cell_type": "markdown",
   "metadata": {},
   "source": [
    "## Load Cifar\n",
    "\n",
    "The first step in building any application, using machine-learning or otherwise, is to understand the application requirements. Load the dataset into the notebook so you can examine it and better understand the dataset you will be working with. The `cifar_utils` module provides some utilities for working with CIFAR data – we will make use of one of them here to load the data."
   ]
  },
  {
   "cell_type": "code",
   "execution_count": null,
   "metadata": {},
   "outputs": [],
   "source": [
    "import cifar_utils\n",
    "\n",
    "cifar_loc = os.path.expanduser(\"cifar/\")\n",
    "test_x, test_y = cifar_utils.filter_data(\n",
    "    *cifar_utils.load_cifar(cifar_loc, cifar_filename=\"cifar_test.data\", norm=True))\n",
    "train_x, train_y = cifar_utils.filter_data(\n",
    "    *cifar_utils.load_cifar(cifar_loc, cifar_filename=\"cifar_train.data\", norm=True))\n",
    "raw_x, raw_y = cifar_utils.filter_data(\n",
    "    *cifar_utils.load_cifar(cifar_loc, cifar_filename=\"cifar_test.data\", norm=False))"
   ]
  },
  {
   "cell_type": "markdown",
   "metadata": {},
   "source": [
    "Take a look at the data you've loaded. The size and blurriness of these images should give you a better understanding of the difficulty of the task you will ask of your machine learning models! If you'd like to see more images, increase the number of rows of images displayed -- the last argument to the function -- to a number greater than 2."
   ]
  },
  {
   "cell_type": "code",
   "execution_count": null,
   "metadata": {},
   "outputs": [],
   "source": [
    "%matplotlib inline\n",
    "cifar_utils.show_example_images(raw_x, raw_y, 2)"
   ]
  },
  {
   "cell_type": "markdown",
   "metadata": {},
   "source": [
    "## Create an application\n",
    "\n",
    "For this tutorial, create an application named \"cifar-binary-classifier\". Note that Clipper allows you to create the application before deploying any models."
   ]
  },
  {
   "cell_type": "code",
   "execution_count": null,
   "metadata": {},
   "outputs": [],
   "source": [
    "app_name = \"cifar-binary-classifier\"\n",
    "# If the model (which we will later link to our application) doesn't\n",
    "# return a prediction in time, predict label 0 (bird) by default\n",
    "default_output = \"0\"\n",
    "\n",
    "clipper_conn.register_application(\n",
    "    name=app_name,\n",
    "    input_type=\"doubles\",\n",
    "    default_output=default_output,\n",
    "    slo_micros=100000)"
   ]
  },
  {
   "cell_type": "markdown",
   "metadata": {},
   "source": [
    "When you list the applications registered with Clipper, you should see the newly registered \"cifar-binary-classifier\" application show up!"
   ]
  },
  {
   "cell_type": "code",
   "execution_count": null,
   "metadata": {},
   "outputs": [],
   "source": [
    "clipper_conn.get_all_apps()"
   ]
  },
  {
   "cell_type": "markdown",
   "metadata": {},
   "source": [
    "## Start serving\n",
    "\n",
    "Now that you have registered an application, you can start querying the application for predictions. \n",
    "\n",
    "You will start querying Clipper with a simple Python frontend app that computes the average accuracy of the responses after every 100 requests and updates a plot of the results with every iteration.\n",
    "\n",
    "**[Go to the query_cifar notebook to start the app.](query_cifar.ipynb) Make sure to leave the query_cifar notebook open and the cell running as you complete the rest of this exercise.**"
   ]
  },
  {
   "cell_type": "markdown",
   "metadata": {},
   "source": [
    "## Train Logistic Regression Model\n",
    "\n",
    "When tackling a new problem with machine learning, it's always good to start with simple models and only add complexity when needed. Start by training a logistic regression binary classifier using [Scikit-Learn](http://scikit-learn.org/). This model gets about 68% accuracy on the offline evaluation dataset if you use 10,000 training examples."
   ]
  },
  {
   "cell_type": "code",
   "execution_count": null,
   "metadata": {},
   "outputs": [],
   "source": [
    "from sklearn import linear_model as lm \n",
    "def train_sklearn_model(m, train_x, train_y):\n",
    "    m.fit(train_x, train_y)\n",
    "    return m\n",
    "lr_model = train_sklearn_model(lm.LogisticRegression(), train_x, train_y)\n",
    "print(\"Logistic Regression test score: %f\" % lr_model.score(test_x, test_y))"
   ]
  },
  {
   "cell_type": "markdown",
   "metadata": {},
   "source": [
    "## Deploy Logistic Regression Model\n",
    "\n",
    "While 68% accuracy on a CIFAR binary classification task is significantly below state of the art, it's already much better than the 50% accuracy your application yields right now by guessing randomly.\n",
    "\n",
    "To deploy your Scikit-Learn logistic regression model, you can use the Python model deployer module you've been using throughout this tutorial. In particular, because the Scikit-Learn model can be pickled (the Python object serialization framework), you can wrap it in a function closure and deploy that function directly as a model to Clipper without needing to manually save the model or write a Docker\n",
    "container.\n",
    "\n",
    "First, you will write and test the prediction function to deploy. This function must take a list of inputs (a list of CIFAR images in this example) as the only function argument and return a list of predictions as strings."
   ]
  },
  {
   "cell_type": "code",
   "execution_count": null,
   "metadata": {},
   "outputs": [],
   "source": [
    "def sklearn_predict(images):\n",
    "    preds = lr_model.predict(images)\n",
    "    return [str(p) for p in preds]\n",
    "\n",
    "print(\"Predicted labels: {}\".format(sklearn_predict(test_x[0:3])))\n",
    "print(\"Correct labels: {}\".format(test_y[0:3]))"
   ]
  },
  {
   "cell_type": "markdown",
   "metadata": {},
   "source": [
    "Now that you have defined and tested your prediction function, deploy it to Clipper as a model named \"cifar-model\". This time, specify the \"input_type\" field as \"doubles.\" Don't forget to link the model to the application when after you've deployed it!"
   ]
  },
  {
   "cell_type": "code",
   "execution_count": null,
   "metadata": {},
   "outputs": [],
   "source": [
    "model_name = \"cifar-model\"\n",
    "\n",
    "python_deployer.deploy_python_closure(\n",
    "    clipper_conn,\n",
    "    name=\"cifar-model\",\n",
    "    version=\"1\",\n",
    "    input_type=\"doubles\",\n",
    "    func=sklearn_predict\n",
    ")\n",
    "\n",
    "clipper_conn.link_model_to_app(app_name=\"cifar-binary-classifier\", model_name=\"cifar-model\")"
   ]
  },
  {
   "cell_type": "markdown",
   "metadata": {},
   "source": [
    "Now that you've deployed and linked your model to your app, go ahead and check back on your running frontend application in the [query_cifar notebook](query_cifar.ipynb). You should see the accuracy rise from around 50% to the accuracy of your SKLearn model (68%), without having to stop or modify your application at all!"
   ]
  },
  {
   "cell_type": "markdown",
   "metadata": {},
   "source": [
    "## Load TensorFlow Model\n",
    "\n",
    "To improve the accuracy of your application further, you will now deploy a TensorFlow convolutional neural network. This model takes a few hours to train on a GPU, so you will download the trained model parameters rather than training it from scratch. This model gets about 88% accuracy on the test dataset.\n",
    "\n",
    "We have provided a pre-trained TensorFlow model stored at `tf_cifar_model/cifar10_model_full`."
   ]
  },
  {
   "cell_type": "code",
   "execution_count": null,
   "metadata": {},
   "outputs": [],
   "source": [
    "import os\n",
    "import tensorflow as tf\n",
    "import numpy as np\n",
    "tf_cifar_model_path = os.path.abspath(\"tf_cifar_model/cifar10_model_full\")\n",
    "# Load the saved model\n",
    "tf_session = tf.Session('', tf.Graph())\n",
    "with tf_session.graph.as_default():\n",
    "    saver = tf.train.import_meta_graph(\"%s.meta\" % tf_cifar_model_path)\n",
    "    saver.restore(tf_session, tf_cifar_model_path)\n",
    "\n",
    "# Score it on the evaluation dataset\n",
    "def tensorflow_score(session, test_x, test_y):\n",
    "    \"\"\"\n",
    "    NOTE: This predict method expects pre-whitened (normalized) images\n",
    "    \"\"\"\n",
    "    logits = session.run('softmax_logits:0',\n",
    "                           feed_dict={'x:0': test_x})\n",
    "    relevant_activations = logits[:, [cifar_utils.negative_class, cifar_utils.positive_class]]\n",
    "    preds = np.argmax(relevant_activations, axis=1)\n",
    "    return float(np.sum(preds == test_y)) / float(len(test_y))\n",
    "print(\"TensorFlow ConvNet test score: %f\" % tensorflow_score(tf_session, test_x, test_y))"
   ]
  },
  {
   "cell_type": "markdown",
   "metadata": {},
   "source": [
    "## Deploy TensorFlow Model\n",
    "\n",
    "Unlike the Scikit-Learn model, TensorFlow models cannot be pickled. Instead, they must be saved using TensorFlow's native serialization API. Because of this, you cannot use the generic Python model deployer to deploy the model to Clipper. Instead, you must save the model yourself and specify a Docker container that knows how to load and run a TensorFlow model. We have provided a Docker image for you, `clipper/tf_cifar_container:develop`, that can run the CIFAR TensorFlow model. The Docker container will load and reconstruct the model from the serialized model checkpoint when the container is started.\n",
    "\n",
    "After completing this step and deploying the new model, Clipper will send queries to the newly-deployed TensorFlow model instead of the logistic regression Scikit-Learn model, improving the application's accuracy.\n",
    "\n",
    "> *Once again, Clipper must download this Docker image from the internet, so this may take a minute. Thanks for your patience.*"
   ]
  },
  {
   "cell_type": "code",
   "execution_count": null,
   "metadata": {},
   "outputs": [],
   "source": [
    "clipper_conn.build_and_deploy_model(\n",
    "    name=model_name,\n",
    "    version=\"2\",\n",
    "    input_type=\"doubles\",\n",
    "    model_data_path=os.path.abspath(\"tf_cifar_model\"),\n",
    "    base_image=\"clipper/tf_cifar_container:develop\",\n",
    "    num_replicas=1\n",
    ")"
   ]
  },
  {
   "cell_type": "markdown",
   "metadata": {},
   "source": [
    "Check out the frontend again and see if the accuracy has improved."
   ]
  },
  {
   "cell_type": "markdown",
   "metadata": {},
   "source": [
    "# Restarting Clipper"
   ]
  },
  {
   "cell_type": "markdown",
   "metadata": {},
   "source": [
    "If you run into issues and want to completely stop Clipper, you can do this by calling [`ClipperConnection.stop_all()`](http://docs.clipper.ai/en/latest/#clipper_admin.ClipperConnection.stop_all)."
   ]
  },
  {
   "cell_type": "code",
   "execution_count": null,
   "metadata": {},
   "outputs": [],
   "source": [
    "clipper_conn.stop_all()"
   ]
  },
  {
   "cell_type": "markdown",
   "metadata": {},
   "source": [
    "When you list all the Docker containers a final time, you should see that all of the Clipper containers have been stopped."
   ]
  },
  {
   "cell_type": "code",
   "execution_count": null,
   "metadata": {},
   "outputs": [],
   "source": [
    "!docker ps --filter label=ai.clipper.container.label"
   ]
  },
  {
   "cell_type": "markdown",
   "metadata": {},
   "source": [
    "You can now call `clipper_conn.start_clipper()` again without running into errors."
   ]
  }
 ],
 "metadata": {
  "kernelspec": {
   "display_name": "Python 2 for Clipper",
   "language": "python",
   "name": "clipper_py2"
  },
  "language_info": {
   "codemirror_mode": {
    "name": "ipython",
    "version": 2
   },
   "file_extension": ".py",
   "mimetype": "text/x-python",
   "name": "python",
   "nbconvert_exporter": "python",
   "pygments_lexer": "ipython2",
   "version": "2.7.13"
  },
  "toc": {
   "nav_menu": {},
   "number_sections": true,
   "sideBar": true,
   "skip_h1_title": false,
   "toc_cell": true,
   "toc_position": {},
   "toc_section_display": "block",
   "toc_window_display": false
  }
 },
 "nbformat": 4,
 "nbformat_minor": 2
}
